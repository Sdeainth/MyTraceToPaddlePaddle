{
 "cells": [
  {
   "cell_type": "markdown",
   "metadata": {
    "collapsed": false
   },
   "source": [
    "### 写在前面的话\n",
    "受[大作业](https://aistudio.baidu.com/aistudio/projectdetail/2270454)的启发，将`.npy`转为类似格式的文件运行训练。  发现`.npy`似乎有些对应不上，遂找到原来的图像文件进行训练。  \n",
    "目前只是依样画葫芦，很多参数设置等等还不明所以。  \n",
    "我明白我自己的水平还远远不够，会不断探索。  \n",
    "另，本项目需GPU环境"
   ]
  },
  {
   "cell_type": "markdown",
   "metadata": {
    "collapsed": false
   },
   "source": [
    "### 数据集说明\n",
    "共有10个文件夹，共2062个文件，分别为0—9十个数字，对应相应的手势。  \n",
    "图片大小为100像素×100像素，分辨率为72dpi，颜色模式为RGB模式。  \n",
    "\n",
    "目录结构  \n",
    "```\n",
    "dataset/\n",
    "├── 0\n",
    "│   ├── IMG_5950.jpg\n",
    "│   ├── IMG_4496.jpg\n",
    "│   ├── IMG_4926.jpg\n",
    "├── 1\n",
    "├── 2\n",
    "├── 3\n",
    "├── 4\n",
    "├── 5\n",
    "├── 6\n",
    "├── 7\n",
    "├── 8\n",
    "├── 9\n",
    "├── 10\n",
    "```"
   ]
  },
  {
   "cell_type": "code",
   "execution_count": 22,
   "metadata": {
    "collapsed": false
   },
   "outputs": [
    {
     "name": "stdout",
     "output_type": "stream",
     "text": [
      "/home/aistudio\n"
     ]
    }
   ],
   "source": [
    "%cd ./home/studio/"
   ]
  },
  {
   "cell_type": "code",
   "execution_count": 23,
   "metadata": {
    "collapsed": false
   },
   "outputs": [],
   "source": [
    "# 解压数据集\r\n",
    "!unzip -oq /home/aistudio/data/data104441/Sign-language-digits-dataset.zip -d digit_sign"
   ]
  },
  {
   "cell_type": "code",
   "execution_count": 6,
   "metadata": {
    "collapsed": false
   },
   "outputs": [],
   "source": [
    "# 加载相应库\r\n",
    "from sklearn.utils import shuffle\r\n",
    "import os\r\n",
    "import pandas as pd\r\n",
    "import numpy as np\r\n",
    "from PIL import Image\r\n",
    "import paddle\r\n",
    "import paddle.nn as nn\r\n",
    "import random"
   ]
  },
  {
   "cell_type": "code",
   "execution_count": 14,
   "metadata": {
    "collapsed": false
   },
   "outputs": [],
   "source": [
    "config = {\r\n",
    "    'dirpath': \"digit_sign\", #数据集根目录（一分类一个文件夹）\r\n",
    "    'train_ratio': 0.8, #训练集占80%\r\n",
    "    'batch_size': 32, #批次大小\r\n",
    "    'learning_rate': 0.001, #学习率\r\n",
    "    'num_epoch': 100, #训练轮次\r\n",
    "}"
   ]
  },
  {
   "cell_type": "code",
   "execution_count": 24,
   "metadata": {
    "collapsed": false
   },
   "outputs": [
    {
     "name": "stdout",
     "output_type": "stream",
     "text": [
      "总训练数据有2062条\n",
      "打乱成功，并重新写入文本\n",
      "训练集大小为1649, 验证集大小为413\n",
      "train_list.txt 生成成功！\n",
      "val_list.txt 生成成功！\n"
     ]
    }
   ],
   "source": [
    "# 分割为训练集test和验证集val\r\n",
    "# 得到总的训练数据\r\n",
    "def read_all_files():\r\n",
    "    all_list = []\r\n",
    "    i = 0 # 标记总文件数量\r\n",
    "    j = 0 # 标记文件类别\r\n",
    "    for root,dirs,files in os.walk(config['dirpath']): # 分别代表根目录、文件夹、文件\r\n",
    "        for file in files:\r\n",
    "            i = i + 1 \r\n",
    "            # 文件中每行格式： 图像相对路径      图像的label_id（数字类别）（注意：中间有空格）。              \r\n",
    "            imgpath = os.path.join(root,file)\r\n",
    "            all_list.append(imgpath+\" \"+str(j)+\"\\n\")\r\n",
    "        j = j + 1\r\n",
    "    allstr = ''.join(all_list)\r\n",
    "    with open('all_list.txt','w',encoding='utf-8') as f:\r\n",
    "        f.write(allstr)\r\n",
    "    return all_list , i\r\n",
    "\r\n",
    "all_list,all_lenth = read_all_files()\r\n",
    "print('总训练数据有{}条'.format(all_lenth))       \r\n",
    "\r\n",
    "# 把数据打乱\r\n",
    "all_list = shuffle(all_list)\r\n",
    "allstr = ''.join(all_list)\r\n",
    "with open('all_list.txt','w',encoding='utf-8') as f:\r\n",
    "    f.write(allstr)\r\n",
    "print(\"打乱成功，并重新写入文本\")\r\n",
    "\r\n",
    "# 按照比例划分数据集\r\n",
    "train_size = int(all_lenth * config['train_ratio'])\r\n",
    "train_list = all_list[:train_size]\r\n",
    "val_list = all_list[train_size:]\r\n",
    "\r\n",
    "print('训练集大小为{}, 验证集大小为{}'.format(len(train_list), len(val_list)))\r\n",
    "\r\n",
    "# 生成训练集txt \r\n",
    "train_txt = ''.join(train_list)\r\n",
    "with open('train_list.txt','w',encoding='utf-8') as f_train:\r\n",
    "    f_train.write(train_txt)\r\n",
    "    print(\"train_list.txt 生成成功！\")\r\n",
    "\r\n",
    "# 生成验证集txt\r\n",
    "val_txt = ''.join(val_list)\r\n",
    "with open('val_list.txt','w',encoding='utf-8') as f_val:\r\n",
    "    f_val.write(val_txt)\r\n",
    "    print(\"val_list.txt 生成成功！\")"
   ]
  },
  {
   "cell_type": "code",
   "execution_count": 9,
   "metadata": {
    "collapsed": false
   },
   "outputs": [
    {
     "name": "stdout",
     "output_type": "stream",
     "text": [
      "Cloning into 'PaddleClas'...\n",
      "remote: Enumerating objects: 538, done.\u001b[K\n",
      "remote: Counting objects: 100% (538/538), done.\u001b[K\n",
      "remote: Compressing objects: 100% (323/323), done.\u001b[K\n",
      "remote: Total 15290 (delta 347), reused 349 (delta 210), pack-reused 14752\u001b[K\n",
      "Receiving objects: 100% (15290/15290), 113.56 MiB | 16.67 MiB/s, done.\n",
      "Resolving deltas: 100% (10239/10239), done.\n",
      "Checking connectivity... done.\n"
     ]
    }
   ],
   "source": [
    "# 安装PaddleClas\r\n",
    "!git clone https://gitee.com/paddlepaddle/PaddleClas.git -b release/2.2"
   ]
  },
  {
   "cell_type": "code",
   "execution_count": 26,
   "metadata": {
    "collapsed": false
   },
   "outputs": [
    {
     "name": "stdout",
     "output_type": "stream",
     "text": [
      "/home/aistudio/PaddleClas\n",
      "dataset  hubconf.py   MANIFEST.in    README_ch.md  requirements.txt\r\n",
      "deploy\t __init__.py  paddleclas.py  README_en.md  setup.py\r\n",
      "docs\t LICENSE      ppcls\t     README.md\t   tools\r\n"
     ]
    }
   ],
   "source": [
    "# 后续paddleclas的命令需要在PaddleClas目录下，所以进入PaddleClas根目录\r\n",
    "# 并把数据都移到相应文件夹下\r\n",
    "%cd PaddleClas\r\n",
    "!ls"
   ]
  },
  {
   "cell_type": "code",
   "execution_count": 27,
   "metadata": {
    "collapsed": false
   },
   "outputs": [],
   "source": [
    "!mv ../digit_sign/ dataset/"
   ]
  },
  {
   "cell_type": "code",
   "execution_count": 28,
   "metadata": {
    "collapsed": false
   },
   "outputs": [],
   "source": [
    "# 挪动文件到对应目录\r\n",
    "!mv ../all_list.txt dataset/digit_sign\r\n",
    "!mv ../train_list.txt dataset/digit_sign\r\n",
    "!mv ../val_list.txt dataset/digit_sign"
   ]
  },
  {
   "cell_type": "markdown",
   "metadata": {
    "collapsed": false
   },
   "source": [
    "### 相关设置\n",
    "主要是以下几点：分类数、图片总量、训练和验证的路径、图像尺寸、数据预处理、训练和预测的num_workers: 0\n",
    "\n",
    "路径如下：\n",
    ">PaddleClas/ppcls/configs/quick_start/new_user/ShuffleNetV2_x0_25.yaml\n",
    "\n",
    "目前根据config更改了相应文件的相应内容，记得用快捷键`Ctrl+F`更好地找到修改\n",
    "```\n",
    "# global configs\n",
    "Global:\n",
    "  checkpoints: null\n",
    "  pretrained_model: null\n",
    "  output_dir: ./output/\n",
    "  # 使用GPU训练\n",
    "  device: gpu\n",
    "  # 每几个轮次保存一次\n",
    "  save_interval: 1 \n",
    "  eval_during_train: True\n",
    "  # 每几个轮次验证一次\n",
    "  eval_interval: 1 \n",
    "  # 训练轮次\n",
    "  epochs: 100\n",
    "  print_batch_step: 1\n",
    "  use_visualdl: True #开启可视化（目前平台不可用）\n",
    "  # used for static mode and model export\n",
    "  # 图像大小\n",
    "  image_shape: [3, 100, 100] \n",
    "  save_inference_dir: ./inference\n",
    "  # training model under @to_static\n",
    "  to_static: False\n",
    "\n",
    "# model architecture\n",
    "Arch:\n",
    "  # 采用的网络\n",
    "  name: ResNet50\n",
    "  # 类别数 多了个0类 1-10对应数字0-9 0无用 \n",
    "  class_num: 11\n",
    " \n",
    "# loss function config for traing/eval process\n",
    "Loss:\n",
    "  Train:\n",
    "\n",
    "    - CELoss: \n",
    "        weight: 1.0\n",
    "  Eval:\n",
    "    - CELoss:\n",
    "        weight: 1.0\n",
    "\n",
    "\n",
    "Optimizer:\n",
    "  name: Momentum\n",
    "  momentum: 0.9\n",
    "  lr:\n",
    "    name: Piecewise\n",
    "    learning_rate: 0.001\n",
    "    decay_epochs: [30, 60, 90]\n",
    "    values: [0.1, 0.01, 0.001, 0.0001]\n",
    "  regularizer:\n",
    "    name: 'L2'\n",
    "    coeff: 0.0005\n",
    "\n",
    "\n",
    "# data loader for train and eval\n",
    "DataLoader:\n",
    "  Train:\n",
    "    dataset:\n",
    "      name: ImageNetDataset\n",
    "      # 根路径\n",
    "      image_root: ./dataset/\n",
    "      # 前面自己生产得到的训练集文本路径\n",
    "      cls_label_path: ./dataset/digit_sign/train_list.txt\n",
    "      # 数据预处理\n",
    "      transform_ops:\n",
    "        - DecodeImage:\n",
    "            to_rgb: True\n",
    "            channel_first: False\n",
    "        - ResizeImage:\n",
    "            resize_short: 128\n",
    "        - CropImage:\n",
    "            size: 100\n",
    "        - RandFlipImage:\n",
    "            flip_code: 1\n",
    "        - NormalizeImage:\n",
    "            scale: 1.0/127.0\n",
    "            mean: [0.485, 0.456, 0.406]\n",
    "            std: [0.229, 0.224, 0.225]\n",
    "            order: ''\n",
    "\n",
    "    sampler:\n",
    "      name: DistributedBatchSampler\n",
    "      batch_size: 32\n",
    "      drop_last: False\n",
    "      shuffle: True\n",
    "    loader:\n",
    "      num_workers: 0\n",
    "      use_shared_memory: True\n",
    "\n",
    "  Eval:\n",
    "    dataset: \n",
    "      name: ImageNetDataset\n",
    "      # 根路径\n",
    "      image_root: ./dataset/\n",
    "      # 前面自己生产得到的验证集文本路径\n",
    "      cls_label_path: ./dataset/digit_sign/val_list.txt\n",
    "      # 数据预处理\n",
    "      transform_ops:\n",
    "        - DecodeImage:\n",
    "            to_rgb: True\n",
    "            channel_first: False\n",
    "        - ResizeImage:\n",
    "            resize_short: 128\n",
    "        - CropImage:\n",
    "            size: 100\n",
    "        - NormalizeImage:\n",
    "            scale: 1.0/127.0\n",
    "            mean: [0.485, 0.456, 0.406]\n",
    "            std: [0.229, 0.224, 0.225]\n",
    "            order: ''\n",
    "    sampler:\n",
    "      name: DistributedBatchSampler\n",
    "      batch_size: 32\n",
    "      drop_last: False\n",
    "      shuffle: True\n",
    "    loader:\n",
    "      num_workers: 0\n",
    "      use_shared_memory: True\n",
    "\n",
    "Infer:\n",
    "  infer_imgs: ./dataset/digit_sign/0/IMG_5950.jpg\n",
    "  batch_size: 10\n",
    "  transforms:\n",
    "    - DecodeImage:\n",
    "        to_rgb: True\n",
    "        channel_first: False\n",
    "    - ResizeImage:\n",
    "        resize_short: 128\n",
    "    - CropImage:\n",
    "        size: 100\n",
    "    - NormalizeImage:\n",
    "        scale: 1.0/127.0\n",
    "        mean: [0.485, 0.456, 0.406]\n",
    "        std: [0.229, 0.224, 0.225]\n",
    "        order: ''\n",
    "    - ToCHWImage:\n",
    "  PostProcess:\n",
    "    name: Topk\n",
    "    # 输出的可能性最高的前topk个\n",
    "    topk: 5\n",
    "    # 标签文件 需要自己新建文件\n",
    "    class_id_map_file: ./dataset/label_list.txt\n",
    "\n",
    "Metric:\n",
    "  Train:\n",
    "    - TopkAcc:\n",
    "        topk: [1, 5]\n",
    "  Eval:\n",
    "    - TopkAcc:\n",
    "        topk: [1, 5]\n",
    "```\n",
    "\n",
    "### 创建标签文件  \n",
    "安装完paddleClas后要在dataset里面创建label_list.txt文件，内容如下所示(根据all_list.txt的内容对应，左边是标签，右边是实际内容，每次都需要更改)。\n",
    "\n",
    "```\n",
    "1 8\n",
    "2 2\n",
    "3 3\n",
    "4 7\n",
    "5 9\n",
    "6 6\n",
    "7 5\n",
    "8 4\n",
    "9 1\n",
    "10 0\n",
    "\n",
    "```"
   ]
  },
  {
   "cell_type": "code",
   "execution_count": 29,
   "metadata": {
    "collapsed": false
   },
   "outputs": [
    {
     "name": "stdout",
     "output_type": "stream",
     "text": [
      "[2021/08/15 21:36:38] root INFO: Already save model in ./output/ResNet50/latest\r"
     ]
    }
   ],
   "source": [
    "# 开始训练\r\n",
    "!python3 tools/train.py \\\r\n",
    "    -c ./ppcls/configs/quick_start/new_user/ShuffleNetV2_x0_25.yaml"
   ]
  },
  {
   "cell_type": "code",
   "execution_count": 31,
   "metadata": {
    "collapsed": false
   },
   "outputs": [
    {
     "name": "stdout",
     "output_type": "stream",
     "text": [
      "/home/aistudio/PaddleClas/ppcls/arch/backbone/model_zoo/vision_transformer.py:15: DeprecationWarning: Using or importing the ABCs from 'collections' instead of from 'collections.abc' is deprecated, and in 3.8 it will stop working\n",
      "  from collections import Callable\n",
      "[2021/08/15 21:39:48] root INFO: \n",
      "===========================================================\n",
      "==        PaddleClas is powered by PaddlePaddle !        ==\n",
      "===========================================================\n",
      "==                                                       ==\n",
      "==   For more info please go to the following website.   ==\n",
      "==                                                       ==\n",
      "==       https://github.com/PaddlePaddle/PaddleClas      ==\n",
      "===========================================================\n",
      "\n",
      "[2021/08/15 21:39:48] root INFO: Arch : \n",
      "[2021/08/15 21:39:48] root INFO:     class_num : 11\n",
      "[2021/08/15 21:39:48] root INFO:     name : ResNet50\n",
      "[2021/08/15 21:39:48] root INFO: DataLoader : \n",
      "[2021/08/15 21:39:48] root INFO:     Eval : \n",
      "[2021/08/15 21:39:48] root INFO:         dataset : \n",
      "[2021/08/15 21:39:48] root INFO:             cls_label_path : ./dataset/digit_sign/val_list.txt\n",
      "[2021/08/15 21:39:48] root INFO:             image_root : ./dataset/\n",
      "[2021/08/15 21:39:48] root INFO:             name : ImageNetDataset\n",
      "[2021/08/15 21:39:48] root INFO:             transform_ops : \n",
      "[2021/08/15 21:39:48] root INFO:                 DecodeImage : \n",
      "[2021/08/15 21:39:48] root INFO:                     channel_first : False\n",
      "[2021/08/15 21:39:48] root INFO:                     to_rgb : True\n",
      "[2021/08/15 21:39:48] root INFO:                 ResizeImage : \n",
      "[2021/08/15 21:39:48] root INFO:                     resize_short : 128\n",
      "[2021/08/15 21:39:48] root INFO:                 CropImage : \n",
      "[2021/08/15 21:39:48] root INFO:                     size : 100\n",
      "[2021/08/15 21:39:48] root INFO:                 NormalizeImage : \n",
      "[2021/08/15 21:39:48] root INFO:                     mean : [0.485, 0.456, 0.406]\n",
      "[2021/08/15 21:39:48] root INFO:                     order : \n",
      "[2021/08/15 21:39:48] root INFO:                     scale : 1.0/127.0\n",
      "[2021/08/15 21:39:48] root INFO:                     std : [0.229, 0.224, 0.225]\n",
      "[2021/08/15 21:39:48] root INFO:         loader : \n",
      "[2021/08/15 21:39:48] root INFO:             num_workers : 0\n",
      "[2021/08/15 21:39:48] root INFO:             use_shared_memory : True\n",
      "[2021/08/15 21:39:48] root INFO:         sampler : \n",
      "[2021/08/15 21:39:48] root INFO:             batch_size : 32\n",
      "[2021/08/15 21:39:48] root INFO:             drop_last : False\n",
      "[2021/08/15 21:39:48] root INFO:             name : DistributedBatchSampler\n",
      "[2021/08/15 21:39:48] root INFO:             shuffle : True\n",
      "[2021/08/15 21:39:48] root INFO:     Train : \n",
      "[2021/08/15 21:39:48] root INFO:         dataset : \n",
      "[2021/08/15 21:39:48] root INFO:             cls_label_path : ./dataset/digit_sign/train_list.txt\n",
      "[2021/08/15 21:39:48] root INFO:             image_root : ./dataset/\n",
      "[2021/08/15 21:39:48] root INFO:             name : ImageNetDataset\n",
      "[2021/08/15 21:39:48] root INFO:             transform_ops : \n",
      "[2021/08/15 21:39:48] root INFO:                 DecodeImage : \n",
      "[2021/08/15 21:39:48] root INFO:                     channel_first : False\n",
      "[2021/08/15 21:39:48] root INFO:                     to_rgb : True\n",
      "[2021/08/15 21:39:48] root INFO:                 ResizeImage : \n",
      "[2021/08/15 21:39:48] root INFO:                     resize_short : 128\n",
      "[2021/08/15 21:39:48] root INFO:                 CropImage : \n",
      "[2021/08/15 21:39:48] root INFO:                     size : 100\n",
      "[2021/08/15 21:39:48] root INFO:                 RandFlipImage : \n",
      "[2021/08/15 21:39:48] root INFO:                     flip_code : 1\n",
      "[2021/08/15 21:39:48] root INFO:                 NormalizeImage : \n",
      "[2021/08/15 21:39:48] root INFO:                     mean : [0.485, 0.456, 0.406]\n",
      "[2021/08/15 21:39:48] root INFO:                     order : \n",
      "[2021/08/15 21:39:48] root INFO:                     scale : 1.0/127.0\n",
      "[2021/08/15 21:39:48] root INFO:                     std : [0.229, 0.224, 0.225]\n",
      "[2021/08/15 21:39:48] root INFO:         loader : \n",
      "[2021/08/15 21:39:48] root INFO:             num_workers : 0\n",
      "[2021/08/15 21:39:48] root INFO:             use_shared_memory : True\n",
      "[2021/08/15 21:39:48] root INFO:         sampler : \n",
      "[2021/08/15 21:39:48] root INFO:             batch_size : 32\n",
      "[2021/08/15 21:39:48] root INFO:             drop_last : False\n",
      "[2021/08/15 21:39:48] root INFO:             name : DistributedBatchSampler\n",
      "[2021/08/15 21:39:48] root INFO:             shuffle : True\n",
      "[2021/08/15 21:39:48] root INFO: Global : \n",
      "[2021/08/15 21:39:48] root INFO:     checkpoints : None\n",
      "[2021/08/15 21:39:48] root INFO:     device : gpu\n",
      "[2021/08/15 21:39:48] root INFO:     epochs : 100\n",
      "[2021/08/15 21:39:48] root INFO:     eval_during_train : True\n",
      "[2021/08/15 21:39:48] root INFO:     eval_interval : 1\n",
      "[2021/08/15 21:39:48] root INFO:     image_shape : [3, 100, 100]\n",
      "[2021/08/15 21:39:48] root INFO:     output_dir : ./output/\n",
      "[2021/08/15 21:39:48] root INFO:     pretrained_model : output/ResNet50/best_model\n",
      "[2021/08/15 21:39:48] root INFO:     print_batch_step : 1\n",
      "[2021/08/15 21:39:48] root INFO:     save_inference_dir : ./inference\n",
      "[2021/08/15 21:39:48] root INFO:     save_interval : 1\n",
      "[2021/08/15 21:39:48] root INFO:     to_static : False\n",
      "[2021/08/15 21:39:48] root INFO:     use_visualdl : True\n",
      "[2021/08/15 21:39:48] root INFO: Infer : \n",
      "[2021/08/15 21:39:48] root INFO:     PostProcess : \n",
      "[2021/08/15 21:39:48] root INFO:         class_id_map_file : ./dataset/label_list.txt\n",
      "[2021/08/15 21:39:48] root INFO:         name : Topk\n",
      "[2021/08/15 21:39:48] root INFO:         topk : 5\n",
      "[2021/08/15 21:39:48] root INFO:     batch_size : 10\n",
      "[2021/08/15 21:39:48] root INFO:     infer_imgs : ./dataset/digit_sign/0/IMG_4856.JPG\n",
      "[2021/08/15 21:39:48] root INFO:     transforms : \n",
      "[2021/08/15 21:39:48] root INFO:         DecodeImage : \n",
      "[2021/08/15 21:39:48] root INFO:             channel_first : False\n",
      "[2021/08/15 21:39:48] root INFO:             to_rgb : True\n",
      "[2021/08/15 21:39:48] root INFO:         ResizeImage : \n",
      "[2021/08/15 21:39:48] root INFO:             resize_short : 128\n",
      "[2021/08/15 21:39:48] root INFO:         CropImage : \n",
      "[2021/08/15 21:39:48] root INFO:             size : 100\n",
      "[2021/08/15 21:39:48] root INFO:         NormalizeImage : \n",
      "[2021/08/15 21:39:48] root INFO:             mean : [0.485, 0.456, 0.406]\n",
      "[2021/08/15 21:39:48] root INFO:             order : \n",
      "[2021/08/15 21:39:48] root INFO:             scale : 1.0/127.0\n",
      "[2021/08/15 21:39:48] root INFO:             std : [0.229, 0.224, 0.225]\n",
      "[2021/08/15 21:39:48] root INFO:         ToCHWImage : None\n",
      "[2021/08/15 21:39:48] root INFO: Loss : \n",
      "[2021/08/15 21:39:48] root INFO:     Eval : \n",
      "[2021/08/15 21:39:48] root INFO:         CELoss : \n",
      "[2021/08/15 21:39:48] root INFO:             weight : 1.0\n",
      "[2021/08/15 21:39:48] root INFO:     Train : \n",
      "[2021/08/15 21:39:48] root INFO:         CELoss : \n",
      "[2021/08/15 21:39:48] root INFO:             weight : 1.0\n",
      "[2021/08/15 21:39:48] root INFO: Metric : \n",
      "[2021/08/15 21:39:48] root INFO:     Eval : \n",
      "[2021/08/15 21:39:48] root INFO:         TopkAcc : \n",
      "[2021/08/15 21:39:48] root INFO:             topk : [1, 5]\n",
      "[2021/08/15 21:39:48] root INFO:     Train : \n",
      "[2021/08/15 21:39:48] root INFO:         TopkAcc : \n",
      "[2021/08/15 21:39:48] root INFO:             topk : [1, 5]\n",
      "[2021/08/15 21:39:48] root INFO: Optimizer : \n",
      "[2021/08/15 21:39:48] root INFO:     lr : \n",
      "[2021/08/15 21:39:48] root INFO:         decay_epochs : [30, 60, 90]\n",
      "[2021/08/15 21:39:48] root INFO:         learning_rate : 0.001\n",
      "[2021/08/15 21:39:48] root INFO:         name : Piecewise\n",
      "[2021/08/15 21:39:48] root INFO:         values : [0.1, 0.01, 0.001, 0.0001]\n",
      "[2021/08/15 21:39:48] root INFO:     momentum : 0.9\n",
      "[2021/08/15 21:39:48] root INFO:     name : Momentum\n",
      "[2021/08/15 21:39:48] root INFO:     regularizer : \n",
      "[2021/08/15 21:39:48] root INFO:         coeff : 0.0005\n",
      "[2021/08/15 21:39:48] root INFO:         name : L2\n",
      "W0815 21:39:48.801923  2185 device_context.cc:404] Please NOTE: device: 0, GPU Compute Capability: 7.0, Driver API Version: 10.1, Runtime API Version: 10.1\n",
      "W0815 21:39:48.806610  2185 device_context.cc:422] device: 0, cuDNN Version: 7.6.\n",
      "[2021/08/15 21:39:54] root INFO: train with paddle 2.1.2 and device CUDAPlace(0)\n",
      "/opt/conda/envs/python35-paddle120-env/lib/python3.7/site-packages/paddle/tensor/creation.py:125: DeprecationWarning: `np.object` is a deprecated alias for the builtin `object`. To silence this warning, use `object` by itself. Doing this will not modify any behavior and is safe. \n",
      "Deprecated in NumPy 1.20; for more details and guidance: https://numpy.org/devdocs/release/1.20.0-notes.html#deprecations\n",
      "  if data.dtype == np.object:\n",
      "[{'class_ids': [10, 9, 5, 2, 6], 'scores': [0.96683, 0.03309, 8e-05, 0.0, 0.0], 'file_name': './dataset/digit_sign/0/IMG_4856.JPG', 'label_names': ['0', '1', '9', '2', '6']}]\n"
     ]
    }
   ],
   "source": [
    "# 更换为你训练的网络，需要预测的文件，上面训练所得到的的最优模型文件\r\n",
    "# 尝试预测\r\n",
    "!python3 tools/infer.py \\\r\n",
    "    -c ./ppcls/configs/quick_start/new_user/ShuffleNetV2_x0_25.yaml \\\r\n",
    "    -o Infer.infer_imgs=./dataset/digit_sign/0/IMG_4856.JPG \\\r\n",
    "    -o Global.pretrained_model=output/ResNet50/best_model"
   ]
  },
  {
   "cell_type": "code",
   "execution_count": 34,
   "metadata": {
    "collapsed": false
   },
   "outputs": [
    {
     "data": {
      "text/plain": [
       "<matplotlib.image.AxesImage at 0x7f3ad2b2c450>"
      ]
     },
     "execution_count": 34,
     "metadata": {},
     "output_type": "execute_result"
    },
    {
     "data": {
      "image/png": "[encoded data removed]",
      "text/plain": [
       "<Figure size 432x288 with 1 Axes>"
      ]
     },
     "metadata": {},
     "output_type": "display_data"
    }
   ],
   "source": [
    "import matplotlib.pyplot as plt\r\n",
    "import matplotlib.image as mpimg\r\n",
    "%matplotlib inline\r\n",
    "img = mpimg.imread('./dataset/digit_sign/0/IMG_4856.JPG')\r\n",
    "plt.imshow(img)"
   ]
  },
  {
   "cell_type": "markdown",
   "metadata": {
    "collapsed": false
   },
   "source": [
    "运行完成，最后几行会得到结果如下形式：\n",
    "```\n",
    "[{'class_ids': [10, 9, 5, 2, 6], \n",
    "'scores': [0.96683, 0.03309, 8e-05, 0.0, 0.0], \n",
    "'file_name': './dataset/digit_sign/0/IMG_4856.JPG', \n",
    "'label_names': ['0', '1', '9', '2', '6']}]\n",
    "``` \n",
    "这说明最大可能是0，通过图片我们也能看出来确实如此。"
   ]
  }
 ],
 "metadata": {
  "kernelspec": {
   "display_name": "PaddlePaddle 2.1.2 (Python 3.5)",
   "language": "python",
   "name": "py35-paddle1.2.0"
  },
  "language_info": {
   "codemirror_mode": {
    "name": "ipython",
    "version": 3
   },
   "file_extension": ".py",
   "mimetype": "text/x-python",
   "name": "python",
   "nbconvert_exporter": "python",
   "pygments_lexer": "ipython3",
   "version": "3.7.4"
  }
 },
 "nbformat": 4,
 "nbformat_minor": 1
}
